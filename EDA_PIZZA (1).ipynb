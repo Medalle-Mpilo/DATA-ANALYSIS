{
  "cells": [
    {
      "cell_type": "markdown",
      "metadata": {
        "id": "FoYY1fAAusRz"
      },
      "source": [
        "## Importing Packages\n"
      ]
    },
    {
      "cell_type": "markdown",
      "source": [
        "##Import Libraries"
      ],
      "metadata": {
        "id": "x_OxIljn4z_X"
      }
    },
    {
      "cell_type": "code",
      "execution_count": null,
      "metadata": {
        "id": "0Vcovn_RFwAj"
      },
      "outputs": [],
      "source": [
        "import pandas as pd\n",
        "import numpy as np\n",
        "from matplotlib import pyplot as plt\n",
        "import seaborn as sns\n",
        "from datetime import datetime"
      ]
    },
    {
      "cell_type": "markdown",
      "metadata": {
        "id": "0nb-Ip6husR-"
      },
      "source": [
        "## Load Data"
      ]
    },
    {
      "cell_type": "code",
      "execution_count": null,
      "metadata": {
        "id": "XswRGYOoGg8n"
      },
      "outputs": [],
      "source": [
        "# Read data using pandas csv method\n",
        "df=pd.read_csv('pizza_data_analysis.csv')"
      ]
    },
    {
      "cell_type": "code",
      "execution_count": null,
      "metadata": {
        "colab": {
          "base_uri": "https://localhost:8080/",
          "height": 504
        },
        "id": "fpAsihuAGg5J",
        "outputId": "56bd50a1-23e1-4320-b286-bc3bffe0f8d1"
      },
      "outputs": [
        {
          "output_type": "execute_result",
          "data": {
            "text/plain": [
              "   Unnamed: 0  order_details_id  order_id    pizza_id  quantity        date  \\\n",
              "0           0                 1         1  hawaiian_m         1  2015-01-01   \n",
              "1           1               179        77  hawaiian_m         1  2015-01-02   \n",
              "2           2               357       146  hawaiian_m         1  2015-01-03   \n",
              "3           3               389       163  hawaiian_m         1  2015-01-03   \n",
              "4           4               568       247  hawaiian_m         1  2015-01-04   \n",
              "\n",
              "                  time pizza_type_id size  price                name category  \\\n",
              "0  2023-10-06 11:38:36      hawaiian    M  13.25  The Hawaiian Pizza  Classic   \n",
              "1  2023-10-06 12:22:46      hawaiian    M  13.25  The Hawaiian Pizza  Classic   \n",
              "2  2023-10-06 14:22:10      hawaiian    M  13.25  The Hawaiian Pizza  Classic   \n",
              "3  2023-10-06 16:54:54      hawaiian    M  13.25  The Hawaiian Pizza  Classic   \n",
              "4  2023-10-06 20:55:29      hawaiian    M  13.25  The Hawaiian Pizza  Classic   \n",
              "\n",
              "                                ingredients day_of_week  month  quarter  \\\n",
              "0  Sliced Ham, Pineapple, Mozzarella Cheese    Thursday      1        1   \n",
              "1  Sliced Ham, Pineapple, Mozzarella Cheese      Friday      1        1   \n",
              "2  Sliced Ham, Pineapple, Mozzarella Cheese    Saturday      1        1   \n",
              "3  Sliced Ham, Pineapple, Mozzarella Cheese    Saturday      1        1   \n",
              "4  Sliced Ham, Pineapple, Mozzarella Cheese      Sunday      1        1   \n",
              "\n",
              "   season  hour_of_day  minute_of_hour  revenue  \n",
              "0  Winter           11              38    13.25  \n",
              "1  Winter           12              22    13.25  \n",
              "2  Winter           14              22    13.25  \n",
              "3  Winter           16              54    13.25  \n",
              "4  Winter           20              55    13.25  "
            ],
            "text/html": [
              "\n",
              "  <div id=\"df-ee279ddb-fcd0-4e16-9bc9-fe4641b4ea24\" class=\"colab-df-container\">\n",
              "    <div>\n",
              "<style scoped>\n",
              "    .dataframe tbody tr th:only-of-type {\n",
              "        vertical-align: middle;\n",
              "    }\n",
              "\n",
              "    .dataframe tbody tr th {\n",
              "        vertical-align: top;\n",
              "    }\n",
              "\n",
              "    .dataframe thead th {\n",
              "        text-align: right;\n",
              "    }\n",
              "</style>\n",
              "<table border=\"1\" class=\"dataframe\">\n",
              "  <thead>\n",
              "    <tr style=\"text-align: right;\">\n",
              "      <th></th>\n",
              "      <th>Unnamed: 0</th>\n",
              "      <th>order_details_id</th>\n",
              "      <th>order_id</th>\n",
              "      <th>pizza_id</th>\n",
              "      <th>quantity</th>\n",
              "      <th>date</th>\n",
              "      <th>time</th>\n",
              "      <th>pizza_type_id</th>\n",
              "      <th>size</th>\n",
              "      <th>price</th>\n",
              "      <th>name</th>\n",
              "      <th>category</th>\n",
              "      <th>ingredients</th>\n",
              "      <th>day_of_week</th>\n",
              "      <th>month</th>\n",
              "      <th>quarter</th>\n",
              "      <th>season</th>\n",
              "      <th>hour_of_day</th>\n",
              "      <th>minute_of_hour</th>\n",
              "      <th>revenue</th>\n",
              "    </tr>\n",
              "  </thead>\n",
              "  <tbody>\n",
              "    <tr>\n",
              "      <th>0</th>\n",
              "      <td>0</td>\n",
              "      <td>1</td>\n",
              "      <td>1</td>\n",
              "      <td>hawaiian_m</td>\n",
              "      <td>1</td>\n",
              "      <td>2015-01-01</td>\n",
              "      <td>2023-10-06 11:38:36</td>\n",
              "      <td>hawaiian</td>\n",
              "      <td>M</td>\n",
              "      <td>13.25</td>\n",
              "      <td>The Hawaiian Pizza</td>\n",
              "      <td>Classic</td>\n",
              "      <td>Sliced Ham, Pineapple, Mozzarella Cheese</td>\n",
              "      <td>Thursday</td>\n",
              "      <td>1</td>\n",
              "      <td>1</td>\n",
              "      <td>Winter</td>\n",
              "      <td>11</td>\n",
              "      <td>38</td>\n",
              "      <td>13.25</td>\n",
              "    </tr>\n",
              "    <tr>\n",
              "      <th>1</th>\n",
              "      <td>1</td>\n",
              "      <td>179</td>\n",
              "      <td>77</td>\n",
              "      <td>hawaiian_m</td>\n",
              "      <td>1</td>\n",
              "      <td>2015-01-02</td>\n",
              "      <td>2023-10-06 12:22:46</td>\n",
              "      <td>hawaiian</td>\n",
              "      <td>M</td>\n",
              "      <td>13.25</td>\n",
              "      <td>The Hawaiian Pizza</td>\n",
              "      <td>Classic</td>\n",
              "      <td>Sliced Ham, Pineapple, Mozzarella Cheese</td>\n",
              "      <td>Friday</td>\n",
              "      <td>1</td>\n",
              "      <td>1</td>\n",
              "      <td>Winter</td>\n",
              "      <td>12</td>\n",
              "      <td>22</td>\n",
              "      <td>13.25</td>\n",
              "    </tr>\n",
              "    <tr>\n",
              "      <th>2</th>\n",
              "      <td>2</td>\n",
              "      <td>357</td>\n",
              "      <td>146</td>\n",
              "      <td>hawaiian_m</td>\n",
              "      <td>1</td>\n",
              "      <td>2015-01-03</td>\n",
              "      <td>2023-10-06 14:22:10</td>\n",
              "      <td>hawaiian</td>\n",
              "      <td>M</td>\n",
              "      <td>13.25</td>\n",
              "      <td>The Hawaiian Pizza</td>\n",
              "      <td>Classic</td>\n",
              "      <td>Sliced Ham, Pineapple, Mozzarella Cheese</td>\n",
              "      <td>Saturday</td>\n",
              "      <td>1</td>\n",
              "      <td>1</td>\n",
              "      <td>Winter</td>\n",
              "      <td>14</td>\n",
              "      <td>22</td>\n",
              "      <td>13.25</td>\n",
              "    </tr>\n",
              "    <tr>\n",
              "      <th>3</th>\n",
              "      <td>3</td>\n",
              "      <td>389</td>\n",
              "      <td>163</td>\n",
              "      <td>hawaiian_m</td>\n",
              "      <td>1</td>\n",
              "      <td>2015-01-03</td>\n",
              "      <td>2023-10-06 16:54:54</td>\n",
              "      <td>hawaiian</td>\n",
              "      <td>M</td>\n",
              "      <td>13.25</td>\n",
              "      <td>The Hawaiian Pizza</td>\n",
              "      <td>Classic</td>\n",
              "      <td>Sliced Ham, Pineapple, Mozzarella Cheese</td>\n",
              "      <td>Saturday</td>\n",
              "      <td>1</td>\n",
              "      <td>1</td>\n",
              "      <td>Winter</td>\n",
              "      <td>16</td>\n",
              "      <td>54</td>\n",
              "      <td>13.25</td>\n",
              "    </tr>\n",
              "    <tr>\n",
              "      <th>4</th>\n",
              "      <td>4</td>\n",
              "      <td>568</td>\n",
              "      <td>247</td>\n",
              "      <td>hawaiian_m</td>\n",
              "      <td>1</td>\n",
              "      <td>2015-01-04</td>\n",
              "      <td>2023-10-06 20:55:29</td>\n",
              "      <td>hawaiian</td>\n",
              "      <td>M</td>\n",
              "      <td>13.25</td>\n",
              "      <td>The Hawaiian Pizza</td>\n",
              "      <td>Classic</td>\n",
              "      <td>Sliced Ham, Pineapple, Mozzarella Cheese</td>\n",
              "      <td>Sunday</td>\n",
              "      <td>1</td>\n",
              "      <td>1</td>\n",
              "      <td>Winter</td>\n",
              "      <td>20</td>\n",
              "      <td>55</td>\n",
              "      <td>13.25</td>\n",
              "    </tr>\n",
              "  </tbody>\n",
              "</table>\n",
              "</div>\n",
              "    <div class=\"colab-df-buttons\">\n",
              "\n",
              "  <div class=\"colab-df-container\">\n",
              "    <button class=\"colab-df-convert\" onclick=\"convertToInteractive('df-ee279ddb-fcd0-4e16-9bc9-fe4641b4ea24')\"\n",
              "            title=\"Convert this dataframe to an interactive table.\"\n",
              "            style=\"display:none;\">\n",
              "\n",
              "  <svg xmlns=\"http://www.w3.org/2000/svg\" height=\"24px\" viewBox=\"0 -960 960 960\">\n",
              "    <path d=\"M120-120v-720h720v720H120Zm60-500h600v-160H180v160Zm220 220h160v-160H400v160Zm0 220h160v-160H400v160ZM180-400h160v-160H180v160Zm440 0h160v-160H620v160ZM180-180h160v-160H180v160Zm440 0h160v-160H620v160Z\"/>\n",
              "  </svg>\n",
              "    </button>\n",
              "\n",
              "  <style>\n",
              "    .colab-df-container {\n",
              "      display:flex;\n",
              "      gap: 12px;\n",
              "    }\n",
              "\n",
              "    .colab-df-convert {\n",
              "      background-color: #E8F0FE;\n",
              "      border: none;\n",
              "      border-radius: 50%;\n",
              "      cursor: pointer;\n",
              "      display: none;\n",
              "      fill: #1967D2;\n",
              "      height: 32px;\n",
              "      padding: 0 0 0 0;\n",
              "      width: 32px;\n",
              "    }\n",
              "\n",
              "    .colab-df-convert:hover {\n",
              "      background-color: #E2EBFA;\n",
              "      box-shadow: 0px 1px 2px rgba(60, 64, 67, 0.3), 0px 1px 3px 1px rgba(60, 64, 67, 0.15);\n",
              "      fill: #174EA6;\n",
              "    }\n",
              "\n",
              "    .colab-df-buttons div {\n",
              "      margin-bottom: 4px;\n",
              "    }\n",
              "\n",
              "    [theme=dark] .colab-df-convert {\n",
              "      background-color: #3B4455;\n",
              "      fill: #D2E3FC;\n",
              "    }\n",
              "\n",
              "    [theme=dark] .colab-df-convert:hover {\n",
              "      background-color: #434B5C;\n",
              "      box-shadow: 0px 1px 3px 1px rgba(0, 0, 0, 0.15);\n",
              "      filter: drop-shadow(0px 1px 2px rgba(0, 0, 0, 0.3));\n",
              "      fill: #FFFFFF;\n",
              "    }\n",
              "  </style>\n",
              "\n",
              "    <script>\n",
              "      const buttonEl =\n",
              "        document.querySelector('#df-ee279ddb-fcd0-4e16-9bc9-fe4641b4ea24 button.colab-df-convert');\n",
              "      buttonEl.style.display =\n",
              "        google.colab.kernel.accessAllowed ? 'block' : 'none';\n",
              "\n",
              "      async function convertToInteractive(key) {\n",
              "        const element = document.querySelector('#df-ee279ddb-fcd0-4e16-9bc9-fe4641b4ea24');\n",
              "        const dataTable =\n",
              "          await google.colab.kernel.invokeFunction('convertToInteractive',\n",
              "                                                    [key], {});\n",
              "        if (!dataTable) return;\n",
              "\n",
              "        const docLinkHtml = 'Like what you see? Visit the ' +\n",
              "          '<a target=\"_blank\" href=https://colab.research.google.com/notebooks/data_table.ipynb>data table notebook</a>'\n",
              "          + ' to learn more about interactive tables.';\n",
              "        element.innerHTML = '';\n",
              "        dataTable['output_type'] = 'display_data';\n",
              "        await google.colab.output.renderOutput(dataTable, element);\n",
              "        const docLink = document.createElement('div');\n",
              "        docLink.innerHTML = docLinkHtml;\n",
              "        element.appendChild(docLink);\n",
              "      }\n",
              "    </script>\n",
              "  </div>\n",
              "\n",
              "\n",
              "<div id=\"df-396fd43d-f68e-49ea-a7de-ee188e3f6f6f\">\n",
              "  <button class=\"colab-df-quickchart\" onclick=\"quickchart('df-396fd43d-f68e-49ea-a7de-ee188e3f6f6f')\"\n",
              "            title=\"Suggest charts.\"\n",
              "            style=\"display:none;\">\n",
              "\n",
              "<svg xmlns=\"http://www.w3.org/2000/svg\" height=\"24px\"viewBox=\"0 0 24 24\"\n",
              "     width=\"24px\">\n",
              "    <g>\n",
              "        <path d=\"M19 3H5c-1.1 0-2 .9-2 2v14c0 1.1.9 2 2 2h14c1.1 0 2-.9 2-2V5c0-1.1-.9-2-2-2zM9 17H7v-7h2v7zm4 0h-2V7h2v10zm4 0h-2v-4h2v4z\"/>\n",
              "    </g>\n",
              "</svg>\n",
              "  </button>\n",
              "\n",
              "<style>\n",
              "  .colab-df-quickchart {\n",
              "      --bg-color: #E8F0FE;\n",
              "      --fill-color: #1967D2;\n",
              "      --hover-bg-color: #E2EBFA;\n",
              "      --hover-fill-color: #174EA6;\n",
              "      --disabled-fill-color: #AAA;\n",
              "      --disabled-bg-color: #DDD;\n",
              "  }\n",
              "\n",
              "  [theme=dark] .colab-df-quickchart {\n",
              "      --bg-color: #3B4455;\n",
              "      --fill-color: #D2E3FC;\n",
              "      --hover-bg-color: #434B5C;\n",
              "      --hover-fill-color: #FFFFFF;\n",
              "      --disabled-bg-color: #3B4455;\n",
              "      --disabled-fill-color: #666;\n",
              "  }\n",
              "\n",
              "  .colab-df-quickchart {\n",
              "    background-color: var(--bg-color);\n",
              "    border: none;\n",
              "    border-radius: 50%;\n",
              "    cursor: pointer;\n",
              "    display: none;\n",
              "    fill: var(--fill-color);\n",
              "    height: 32px;\n",
              "    padding: 0;\n",
              "    width: 32px;\n",
              "  }\n",
              "\n",
              "  .colab-df-quickchart:hover {\n",
              "    background-color: var(--hover-bg-color);\n",
              "    box-shadow: 0 1px 2px rgba(60, 64, 67, 0.3), 0 1px 3px 1px rgba(60, 64, 67, 0.15);\n",
              "    fill: var(--button-hover-fill-color);\n",
              "  }\n",
              "\n",
              "  .colab-df-quickchart-complete:disabled,\n",
              "  .colab-df-quickchart-complete:disabled:hover {\n",
              "    background-color: var(--disabled-bg-color);\n",
              "    fill: var(--disabled-fill-color);\n",
              "    box-shadow: none;\n",
              "  }\n",
              "\n",
              "  .colab-df-spinner {\n",
              "    border: 2px solid var(--fill-color);\n",
              "    border-color: transparent;\n",
              "    border-bottom-color: var(--fill-color);\n",
              "    animation:\n",
              "      spin 1s steps(1) infinite;\n",
              "  }\n",
              "\n",
              "  @keyframes spin {\n",
              "    0% {\n",
              "      border-color: transparent;\n",
              "      border-bottom-color: var(--fill-color);\n",
              "      border-left-color: var(--fill-color);\n",
              "    }\n",
              "    20% {\n",
              "      border-color: transparent;\n",
              "      border-left-color: var(--fill-color);\n",
              "      border-top-color: var(--fill-color);\n",
              "    }\n",
              "    30% {\n",
              "      border-color: transparent;\n",
              "      border-left-color: var(--fill-color);\n",
              "      border-top-color: var(--fill-color);\n",
              "      border-right-color: var(--fill-color);\n",
              "    }\n",
              "    40% {\n",
              "      border-color: transparent;\n",
              "      border-right-color: var(--fill-color);\n",
              "      border-top-color: var(--fill-color);\n",
              "    }\n",
              "    60% {\n",
              "      border-color: transparent;\n",
              "      border-right-color: var(--fill-color);\n",
              "    }\n",
              "    80% {\n",
              "      border-color: transparent;\n",
              "      border-right-color: var(--fill-color);\n",
              "      border-bottom-color: var(--fill-color);\n",
              "    }\n",
              "    90% {\n",
              "      border-color: transparent;\n",
              "      border-bottom-color: var(--fill-color);\n",
              "    }\n",
              "  }\n",
              "</style>\n",
              "\n",
              "  <script>\n",
              "    async function quickchart(key) {\n",
              "      const quickchartButtonEl =\n",
              "        document.querySelector('#' + key + ' button');\n",
              "      quickchartButtonEl.disabled = true;  // To prevent multiple clicks.\n",
              "      quickchartButtonEl.classList.add('colab-df-spinner');\n",
              "      try {\n",
              "        const charts = await google.colab.kernel.invokeFunction(\n",
              "            'suggestCharts', [key], {});\n",
              "      } catch (error) {\n",
              "        console.error('Error during call to suggestCharts:', error);\n",
              "      }\n",
              "      quickchartButtonEl.classList.remove('colab-df-spinner');\n",
              "      quickchartButtonEl.classList.add('colab-df-quickchart-complete');\n",
              "    }\n",
              "    (() => {\n",
              "      let quickchartButtonEl =\n",
              "        document.querySelector('#df-396fd43d-f68e-49ea-a7de-ee188e3f6f6f button');\n",
              "      quickchartButtonEl.style.display =\n",
              "        google.colab.kernel.accessAllowed ? 'block' : 'none';\n",
              "    })();\n",
              "  </script>\n",
              "</div>\n",
              "    </div>\n",
              "  </div>\n"
            ]
          },
          "metadata": {},
          "execution_count": 60
        }
      ],
      "source": [
        "#Display first rows of dataframe\n",
        "df.head()"
      ]
    },
    {
      "cell_type": "code",
      "execution_count": null,
      "metadata": {
        "colab": {
          "base_uri": "https://localhost:8080/",
          "height": 591
        },
        "id": "hFbvpkNjLiFT",
        "outputId": "bd6b6725-f98c-4339-9531-8bdcae2d2c73"
      },
      "outputs": [
        {
          "output_type": "execute_result",
          "data": {
            "text/plain": [
              "       Unnamed: 0  order_details_id  order_id       pizza_id  quantity  \\\n",
              "48615       48615             39733     17492  the_greek_xxl         1   \n",
              "48616       48616             41183     18139  the_greek_xxl         1   \n",
              "48617       48617             42718     18789  the_greek_xxl         1   \n",
              "48618       48618             43041     18919  the_greek_xxl         1   \n",
              "48619       48619             47490     20866  the_greek_xxl         1   \n",
              "\n",
              "             date                 time pizza_type_id size  price  \\\n",
              "48615  2015-10-24  2023-10-06 18:58:20     the_greek  XXL  35.95   \n",
              "48616  2015-11-05  2023-10-06 20:28:52     the_greek  XXL  35.95   \n",
              "48617  2015-11-17  2023-10-06 11:23:51     the_greek  XXL  35.95   \n",
              "48618  2015-11-19  2023-10-06 16:58:26     the_greek  XXL  35.95   \n",
              "48619  2015-12-20  2023-10-06 19:16:20     the_greek  XXL  35.95   \n",
              "\n",
              "                  name category  \\\n",
              "48615  The Greek Pizza  Classic   \n",
              "48616  The Greek Pizza  Classic   \n",
              "48617  The Greek Pizza  Classic   \n",
              "48618  The Greek Pizza  Classic   \n",
              "48619  The Greek Pizza  Classic   \n",
              "\n",
              "                                             ingredients day_of_week  month  \\\n",
              "48615  Kalamata Olives, Feta Cheese, Tomatoes, Garlic...    Saturday     10   \n",
              "48616  Kalamata Olives, Feta Cheese, Tomatoes, Garlic...    Thursday     11   \n",
              "48617  Kalamata Olives, Feta Cheese, Tomatoes, Garlic...     Tuesday     11   \n",
              "48618  Kalamata Olives, Feta Cheese, Tomatoes, Garlic...    Thursday     11   \n",
              "48619  Kalamata Olives, Feta Cheese, Tomatoes, Garlic...      Sunday     12   \n",
              "\n",
              "       quarter season  hour_of_day  minute_of_hour  revenue  \n",
              "48615        4   Fall           18              58    35.95  \n",
              "48616        4   Fall           20              28    35.95  \n",
              "48617        4   Fall           11              23    35.95  \n",
              "48618        4   Fall           16              58    35.95  \n",
              "48619        4   Fall           19              16    35.95  "
            ],
            "text/html": [
              "\n",
              "  <div id=\"df-c945d095-077b-4962-b2c7-98f6f0503a87\" class=\"colab-df-container\">\n",
              "    <div>\n",
              "<style scoped>\n",
              "    .dataframe tbody tr th:only-of-type {\n",
              "        vertical-align: middle;\n",
              "    }\n",
              "\n",
              "    .dataframe tbody tr th {\n",
              "        vertical-align: top;\n",
              "    }\n",
              "\n",
              "    .dataframe thead th {\n",
              "        text-align: right;\n",
              "    }\n",
              "</style>\n",
              "<table border=\"1\" class=\"dataframe\">\n",
              "  <thead>\n",
              "    <tr style=\"text-align: right;\">\n",
              "      <th></th>\n",
              "      <th>Unnamed: 0</th>\n",
              "      <th>order_details_id</th>\n",
              "      <th>order_id</th>\n",
              "      <th>pizza_id</th>\n",
              "      <th>quantity</th>\n",
              "      <th>date</th>\n",
              "      <th>time</th>\n",
              "      <th>pizza_type_id</th>\n",
              "      <th>size</th>\n",
              "      <th>price</th>\n",
              "      <th>name</th>\n",
              "      <th>category</th>\n",
              "      <th>ingredients</th>\n",
              "      <th>day_of_week</th>\n",
              "      <th>month</th>\n",
              "      <th>quarter</th>\n",
              "      <th>season</th>\n",
              "      <th>hour_of_day</th>\n",
              "      <th>minute_of_hour</th>\n",
              "      <th>revenue</th>\n",
              "    </tr>\n",
              "  </thead>\n",
              "  <tbody>\n",
              "    <tr>\n",
              "      <th>48615</th>\n",
              "      <td>48615</td>\n",
              "      <td>39733</td>\n",
              "      <td>17492</td>\n",
              "      <td>the_greek_xxl</td>\n",
              "      <td>1</td>\n",
              "      <td>2015-10-24</td>\n",
              "      <td>2023-10-06 18:58:20</td>\n",
              "      <td>the_greek</td>\n",
              "      <td>XXL</td>\n",
              "      <td>35.95</td>\n",
              "      <td>The Greek Pizza</td>\n",
              "      <td>Classic</td>\n",
              "      <td>Kalamata Olives, Feta Cheese, Tomatoes, Garlic...</td>\n",
              "      <td>Saturday</td>\n",
              "      <td>10</td>\n",
              "      <td>4</td>\n",
              "      <td>Fall</td>\n",
              "      <td>18</td>\n",
              "      <td>58</td>\n",
              "      <td>35.95</td>\n",
              "    </tr>\n",
              "    <tr>\n",
              "      <th>48616</th>\n",
              "      <td>48616</td>\n",
              "      <td>41183</td>\n",
              "      <td>18139</td>\n",
              "      <td>the_greek_xxl</td>\n",
              "      <td>1</td>\n",
              "      <td>2015-11-05</td>\n",
              "      <td>2023-10-06 20:28:52</td>\n",
              "      <td>the_greek</td>\n",
              "      <td>XXL</td>\n",
              "      <td>35.95</td>\n",
              "      <td>The Greek Pizza</td>\n",
              "      <td>Classic</td>\n",
              "      <td>Kalamata Olives, Feta Cheese, Tomatoes, Garlic...</td>\n",
              "      <td>Thursday</td>\n",
              "      <td>11</td>\n",
              "      <td>4</td>\n",
              "      <td>Fall</td>\n",
              "      <td>20</td>\n",
              "      <td>28</td>\n",
              "      <td>35.95</td>\n",
              "    </tr>\n",
              "    <tr>\n",
              "      <th>48617</th>\n",
              "      <td>48617</td>\n",
              "      <td>42718</td>\n",
              "      <td>18789</td>\n",
              "      <td>the_greek_xxl</td>\n",
              "      <td>1</td>\n",
              "      <td>2015-11-17</td>\n",
              "      <td>2023-10-06 11:23:51</td>\n",
              "      <td>the_greek</td>\n",
              "      <td>XXL</td>\n",
              "      <td>35.95</td>\n",
              "      <td>The Greek Pizza</td>\n",
              "      <td>Classic</td>\n",
              "      <td>Kalamata Olives, Feta Cheese, Tomatoes, Garlic...</td>\n",
              "      <td>Tuesday</td>\n",
              "      <td>11</td>\n",
              "      <td>4</td>\n",
              "      <td>Fall</td>\n",
              "      <td>11</td>\n",
              "      <td>23</td>\n",
              "      <td>35.95</td>\n",
              "    </tr>\n",
              "    <tr>\n",
              "      <th>48618</th>\n",
              "      <td>48618</td>\n",
              "      <td>43041</td>\n",
              "      <td>18919</td>\n",
              "      <td>the_greek_xxl</td>\n",
              "      <td>1</td>\n",
              "      <td>2015-11-19</td>\n",
              "      <td>2023-10-06 16:58:26</td>\n",
              "      <td>the_greek</td>\n",
              "      <td>XXL</td>\n",
              "      <td>35.95</td>\n",
              "      <td>The Greek Pizza</td>\n",
              "      <td>Classic</td>\n",
              "      <td>Kalamata Olives, Feta Cheese, Tomatoes, Garlic...</td>\n",
              "      <td>Thursday</td>\n",
              "      <td>11</td>\n",
              "      <td>4</td>\n",
              "      <td>Fall</td>\n",
              "      <td>16</td>\n",
              "      <td>58</td>\n",
              "      <td>35.95</td>\n",
              "    </tr>\n",
              "    <tr>\n",
              "      <th>48619</th>\n",
              "      <td>48619</td>\n",
              "      <td>47490</td>\n",
              "      <td>20866</td>\n",
              "      <td>the_greek_xxl</td>\n",
              "      <td>1</td>\n",
              "      <td>2015-12-20</td>\n",
              "      <td>2023-10-06 19:16:20</td>\n",
              "      <td>the_greek</td>\n",
              "      <td>XXL</td>\n",
              "      <td>35.95</td>\n",
              "      <td>The Greek Pizza</td>\n",
              "      <td>Classic</td>\n",
              "      <td>Kalamata Olives, Feta Cheese, Tomatoes, Garlic...</td>\n",
              "      <td>Sunday</td>\n",
              "      <td>12</td>\n",
              "      <td>4</td>\n",
              "      <td>Fall</td>\n",
              "      <td>19</td>\n",
              "      <td>16</td>\n",
              "      <td>35.95</td>\n",
              "    </tr>\n",
              "  </tbody>\n",
              "</table>\n",
              "</div>\n",
              "    <div class=\"colab-df-buttons\">\n",
              "\n",
              "  <div class=\"colab-df-container\">\n",
              "    <button class=\"colab-df-convert\" onclick=\"convertToInteractive('df-c945d095-077b-4962-b2c7-98f6f0503a87')\"\n",
              "            title=\"Convert this dataframe to an interactive table.\"\n",
              "            style=\"display:none;\">\n",
              "\n",
              "  <svg xmlns=\"http://www.w3.org/2000/svg\" height=\"24px\" viewBox=\"0 -960 960 960\">\n",
              "    <path d=\"M120-120v-720h720v720H120Zm60-500h600v-160H180v160Zm220 220h160v-160H400v160Zm0 220h160v-160H400v160ZM180-400h160v-160H180v160Zm440 0h160v-160H620v160ZM180-180h160v-160H180v160Zm440 0h160v-160H620v160Z\"/>\n",
              "  </svg>\n",
              "    </button>\n",
              "\n",
              "  <style>\n",
              "    .colab-df-container {\n",
              "      display:flex;\n",
              "      gap: 12px;\n",
              "    }\n",
              "\n",
              "    .colab-df-convert {\n",
              "      background-color: #E8F0FE;\n",
              "      border: none;\n",
              "      border-radius: 50%;\n",
              "      cursor: pointer;\n",
              "      display: none;\n",
              "      fill: #1967D2;\n",
              "      height: 32px;\n",
              "      padding: 0 0 0 0;\n",
              "      width: 32px;\n",
              "    }\n",
              "\n",
              "    .colab-df-convert:hover {\n",
              "      background-color: #E2EBFA;\n",
              "      box-shadow: 0px 1px 2px rgba(60, 64, 67, 0.3), 0px 1px 3px 1px rgba(60, 64, 67, 0.15);\n",
              "      fill: #174EA6;\n",
              "    }\n",
              "\n",
              "    .colab-df-buttons div {\n",
              "      margin-bottom: 4px;\n",
              "    }\n",
              "\n",
              "    [theme=dark] .colab-df-convert {\n",
              "      background-color: #3B4455;\n",
              "      fill: #D2E3FC;\n",
              "    }\n",
              "\n",
              "    [theme=dark] .colab-df-convert:hover {\n",
              "      background-color: #434B5C;\n",
              "      box-shadow: 0px 1px 3px 1px rgba(0, 0, 0, 0.15);\n",
              "      filter: drop-shadow(0px 1px 2px rgba(0, 0, 0, 0.3));\n",
              "      fill: #FFFFFF;\n",
              "    }\n",
              "  </style>\n",
              "\n",
              "    <script>\n",
              "      const buttonEl =\n",
              "        document.querySelector('#df-c945d095-077b-4962-b2c7-98f6f0503a87 button.colab-df-convert');\n",
              "      buttonEl.style.display =\n",
              "        google.colab.kernel.accessAllowed ? 'block' : 'none';\n",
              "\n",
              "      async function convertToInteractive(key) {\n",
              "        const element = document.querySelector('#df-c945d095-077b-4962-b2c7-98f6f0503a87');\n",
              "        const dataTable =\n",
              "          await google.colab.kernel.invokeFunction('convertToInteractive',\n",
              "                                                    [key], {});\n",
              "        if (!dataTable) return;\n",
              "\n",
              "        const docLinkHtml = 'Like what you see? Visit the ' +\n",
              "          '<a target=\"_blank\" href=https://colab.research.google.com/notebooks/data_table.ipynb>data table notebook</a>'\n",
              "          + ' to learn more about interactive tables.';\n",
              "        element.innerHTML = '';\n",
              "        dataTable['output_type'] = 'display_data';\n",
              "        await google.colab.output.renderOutput(dataTable, element);\n",
              "        const docLink = document.createElement('div');\n",
              "        docLink.innerHTML = docLinkHtml;\n",
              "        element.appendChild(docLink);\n",
              "      }\n",
              "    </script>\n",
              "  </div>\n",
              "\n",
              "\n",
              "<div id=\"df-f1398ef4-1630-41f3-8798-feceaeca4392\">\n",
              "  <button class=\"colab-df-quickchart\" onclick=\"quickchart('df-f1398ef4-1630-41f3-8798-feceaeca4392')\"\n",
              "            title=\"Suggest charts.\"\n",
              "            style=\"display:none;\">\n",
              "\n",
              "<svg xmlns=\"http://www.w3.org/2000/svg\" height=\"24px\"viewBox=\"0 0 24 24\"\n",
              "     width=\"24px\">\n",
              "    <g>\n",
              "        <path d=\"M19 3H5c-1.1 0-2 .9-2 2v14c0 1.1.9 2 2 2h14c1.1 0 2-.9 2-2V5c0-1.1-.9-2-2-2zM9 17H7v-7h2v7zm4 0h-2V7h2v10zm4 0h-2v-4h2v4z\"/>\n",
              "    </g>\n",
              "</svg>\n",
              "  </button>\n",
              "\n",
              "<style>\n",
              "  .colab-df-quickchart {\n",
              "      --bg-color: #E8F0FE;\n",
              "      --fill-color: #1967D2;\n",
              "      --hover-bg-color: #E2EBFA;\n",
              "      --hover-fill-color: #174EA6;\n",
              "      --disabled-fill-color: #AAA;\n",
              "      --disabled-bg-color: #DDD;\n",
              "  }\n",
              "\n",
              "  [theme=dark] .colab-df-quickchart {\n",
              "      --bg-color: #3B4455;\n",
              "      --fill-color: #D2E3FC;\n",
              "      --hover-bg-color: #434B5C;\n",
              "      --hover-fill-color: #FFFFFF;\n",
              "      --disabled-bg-color: #3B4455;\n",
              "      --disabled-fill-color: #666;\n",
              "  }\n",
              "\n",
              "  .colab-df-quickchart {\n",
              "    background-color: var(--bg-color);\n",
              "    border: none;\n",
              "    border-radius: 50%;\n",
              "    cursor: pointer;\n",
              "    display: none;\n",
              "    fill: var(--fill-color);\n",
              "    height: 32px;\n",
              "    padding: 0;\n",
              "    width: 32px;\n",
              "  }\n",
              "\n",
              "  .colab-df-quickchart:hover {\n",
              "    background-color: var(--hover-bg-color);\n",
              "    box-shadow: 0 1px 2px rgba(60, 64, 67, 0.3), 0 1px 3px 1px rgba(60, 64, 67, 0.15);\n",
              "    fill: var(--button-hover-fill-color);\n",
              "  }\n",
              "\n",
              "  .colab-df-quickchart-complete:disabled,\n",
              "  .colab-df-quickchart-complete:disabled:hover {\n",
              "    background-color: var(--disabled-bg-color);\n",
              "    fill: var(--disabled-fill-color);\n",
              "    box-shadow: none;\n",
              "  }\n",
              "\n",
              "  .colab-df-spinner {\n",
              "    border: 2px solid var(--fill-color);\n",
              "    border-color: transparent;\n",
              "    border-bottom-color: var(--fill-color);\n",
              "    animation:\n",
              "      spin 1s steps(1) infinite;\n",
              "  }\n",
              "\n",
              "  @keyframes spin {\n",
              "    0% {\n",
              "      border-color: transparent;\n",
              "      border-bottom-color: var(--fill-color);\n",
              "      border-left-color: var(--fill-color);\n",
              "    }\n",
              "    20% {\n",
              "      border-color: transparent;\n",
              "      border-left-color: var(--fill-color);\n",
              "      border-top-color: var(--fill-color);\n",
              "    }\n",
              "    30% {\n",
              "      border-color: transparent;\n",
              "      border-left-color: var(--fill-color);\n",
              "      border-top-color: var(--fill-color);\n",
              "      border-right-color: var(--fill-color);\n",
              "    }\n",
              "    40% {\n",
              "      border-color: transparent;\n",
              "      border-right-color: var(--fill-color);\n",
              "      border-top-color: var(--fill-color);\n",
              "    }\n",
              "    60% {\n",
              "      border-color: transparent;\n",
              "      border-right-color: var(--fill-color);\n",
              "    }\n",
              "    80% {\n",
              "      border-color: transparent;\n",
              "      border-right-color: var(--fill-color);\n",
              "      border-bottom-color: var(--fill-color);\n",
              "    }\n",
              "    90% {\n",
              "      border-color: transparent;\n",
              "      border-bottom-color: var(--fill-color);\n",
              "    }\n",
              "  }\n",
              "</style>\n",
              "\n",
              "  <script>\n",
              "    async function quickchart(key) {\n",
              "      const quickchartButtonEl =\n",
              "        document.querySelector('#' + key + ' button');\n",
              "      quickchartButtonEl.disabled = true;  // To prevent multiple clicks.\n",
              "      quickchartButtonEl.classList.add('colab-df-spinner');\n",
              "      try {\n",
              "        const charts = await google.colab.kernel.invokeFunction(\n",
              "            'suggestCharts', [key], {});\n",
              "      } catch (error) {\n",
              "        console.error('Error during call to suggestCharts:', error);\n",
              "      }\n",
              "      quickchartButtonEl.classList.remove('colab-df-spinner');\n",
              "      quickchartButtonEl.classList.add('colab-df-quickchart-complete');\n",
              "    }\n",
              "    (() => {\n",
              "      let quickchartButtonEl =\n",
              "        document.querySelector('#df-f1398ef4-1630-41f3-8798-feceaeca4392 button');\n",
              "      quickchartButtonEl.style.display =\n",
              "        google.colab.kernel.accessAllowed ? 'block' : 'none';\n",
              "    })();\n",
              "  </script>\n",
              "</div>\n",
              "    </div>\n",
              "  </div>\n"
            ]
          },
          "metadata": {},
          "execution_count": 61
        }
      ],
      "source": [
        "#display last rows of the dataframe\n",
        "df.tail()"
      ]
    },
    {
      "cell_type": "markdown",
      "metadata": {
        "id": "w3fh9yPqusSB"
      },
      "source": [
        "## Inspecting the data"
      ]
    },
    {
      "cell_type": "code",
      "execution_count": null,
      "metadata": {
        "colab": {
          "base_uri": "https://localhost:8080/"
        },
        "id": "w1_ZfZjKLiB5",
        "outputId": "2fa26161-6896-47f7-e206-97bd838b375c"
      },
      "outputs": [
        {
          "output_type": "stream",
          "name": "stdout",
          "text": [
            "<class 'pandas.core.frame.DataFrame'>\n",
            "RangeIndex: 48620 entries, 0 to 48619\n",
            "Data columns (total 20 columns):\n",
            " #   Column            Non-Null Count  Dtype  \n",
            "---  ------            --------------  -----  \n",
            " 0   Unnamed: 0        48620 non-null  int64  \n",
            " 1   order_details_id  48620 non-null  int64  \n",
            " 2   order_id          48620 non-null  int64  \n",
            " 3   pizza_id          48620 non-null  object \n",
            " 4   quantity          48620 non-null  int64  \n",
            " 5   date              48620 non-null  object \n",
            " 6   time              48620 non-null  object \n",
            " 7   pizza_type_id     48620 non-null  object \n",
            " 8   size              48620 non-null  object \n",
            " 9   price             48620 non-null  float64\n",
            " 10  name              48620 non-null  object \n",
            " 11  category          48620 non-null  object \n",
            " 12  ingredients       48620 non-null  object \n",
            " 13  day_of_week       48620 non-null  object \n",
            " 14  month             48620 non-null  int64  \n",
            " 15  quarter           48620 non-null  int64  \n",
            " 16  season            48620 non-null  object \n",
            " 17  hour_of_day       48620 non-null  int64  \n",
            " 18  minute_of_hour    48620 non-null  int64  \n",
            " 19  revenue           48620 non-null  float64\n",
            "dtypes: float64(2), int64(8), object(10)\n",
            "memory usage: 7.4+ MB\n"
          ]
        }
      ],
      "source": [
        "# Checking data types and rows in our dataframe\n",
        "df.info()"
      ]
    },
    {
      "cell_type": "code",
      "execution_count": null,
      "metadata": {
        "colab": {
          "base_uri": "https://localhost:8080/"
        },
        "id": "ylY4_pu9Lh-d",
        "outputId": "34057cdb-110c-4f30-c00a-093b61b1c3be"
      },
      "outputs": [
        {
          "output_type": "stream",
          "name": "stdout",
          "text": [
            "The dataframe has 48620 rows and 20 columns\n"
          ]
        }
      ],
      "source": [
        "a,b=df.shape\n",
        "print(f\"The dataframe has {a} rows and {b} columns\")"
      ]
    },
    {
      "cell_type": "code",
      "execution_count": null,
      "metadata": {
        "colab": {
          "base_uri": "https://localhost:8080/"
        },
        "id": "Vv5UDRJ4Lh7G",
        "outputId": "2b2ef520-471c-427d-d3c9-94c67c2518f0"
      },
      "outputs": [
        {
          "output_type": "execute_result",
          "data": {
            "text/plain": [
              "Unnamed: 0            int64\n",
              "order_details_id      int64\n",
              "order_id              int64\n",
              "pizza_id             object\n",
              "quantity              int64\n",
              "date                 object\n",
              "time                 object\n",
              "pizza_type_id        object\n",
              "size                 object\n",
              "price               float64\n",
              "name                 object\n",
              "category             object\n",
              "ingredients          object\n",
              "day_of_week          object\n",
              "month                 int64\n",
              "quarter               int64\n",
              "season               object\n",
              "hour_of_day           int64\n",
              "minute_of_hour        int64\n",
              "revenue             float64\n",
              "dtype: object"
            ]
          },
          "metadata": {},
          "execution_count": 64
        }
      ],
      "source": [
        "#Datatypes in our dataset\n",
        "df.dtypes"
      ]
    },
    {
      "cell_type": "markdown",
      "metadata": {
        "id": "Y9L52JNCusSE"
      },
      "source": [
        "``Our dataset has differnt data types including numbers,dates and text``"
      ]
    },
    {
      "cell_type": "code",
      "execution_count": null,
      "metadata": {
        "colab": {
          "base_uri": "https://localhost:8080/",
          "height": 300
        },
        "id": "Wygo5kgHusSE",
        "outputId": "6524b81c-5c17-401e-893b-268ecb7acd8f"
      },
      "outputs": [
        {
          "output_type": "execute_result",
          "data": {
            "text/plain": [
              "         Unnamed: 0  order_details_id      order_id      quantity  \\\n",
              "count  48620.000000      48620.000000  48620.000000  48620.000000   \n",
              "mean   24309.500000      24310.500000  10701.479761      1.019622   \n",
              "std    14035.529381      14035.529381   6180.119770      0.143077   \n",
              "min        0.000000          1.000000      1.000000      1.000000   \n",
              "25%    12154.750000      12155.750000   5337.000000      1.000000   \n",
              "50%    24309.500000      24310.500000  10682.500000      1.000000   \n",
              "75%    36464.250000      36465.250000  16100.000000      1.000000   \n",
              "max    48619.000000      48620.000000  21350.000000      4.000000   \n",
              "\n",
              "              price         month       quarter   hour_of_day  minute_of_hour  \\\n",
              "count  48620.000000  48620.000000  48620.000000  48620.000000    48620.000000   \n",
              "mean      16.494132      6.451131      2.486672     15.911806       29.654936   \n",
              "std        3.621789      3.435420      1.113634      3.149836       17.310959   \n",
              "min        9.750000      1.000000      1.000000      9.000000        0.000000   \n",
              "25%       12.750000      3.000000      1.000000     13.000000       15.000000   \n",
              "50%       16.500000      6.000000      2.000000     16.000000       30.000000   \n",
              "75%       20.250000      9.000000      3.000000     18.000000       45.000000   \n",
              "max       35.950000     12.000000      4.000000     23.000000       59.000000   \n",
              "\n",
              "            revenue  \n",
              "count  48620.000000  \n",
              "mean      16.821474  \n",
              "std        4.437398  \n",
              "min        9.750000  \n",
              "25%       12.750000  \n",
              "50%       16.500000  \n",
              "75%       20.500000  \n",
              "max       83.000000  "
            ],
            "text/html": [
              "\n",
              "  <div id=\"df-746967c4-4343-40e7-b2c6-0025e94b7b84\" class=\"colab-df-container\">\n",
              "    <div>\n",
              "<style scoped>\n",
              "    .dataframe tbody tr th:only-of-type {\n",
              "        vertical-align: middle;\n",
              "    }\n",
              "\n",
              "    .dataframe tbody tr th {\n",
              "        vertical-align: top;\n",
              "    }\n",
              "\n",
              "    .dataframe thead th {\n",
              "        text-align: right;\n",
              "    }\n",
              "</style>\n",
              "<table border=\"1\" class=\"dataframe\">\n",
              "  <thead>\n",
              "    <tr style=\"text-align: right;\">\n",
              "      <th></th>\n",
              "      <th>Unnamed: 0</th>\n",
              "      <th>order_details_id</th>\n",
              "      <th>order_id</th>\n",
              "      <th>quantity</th>\n",
              "      <th>price</th>\n",
              "      <th>month</th>\n",
              "      <th>quarter</th>\n",
              "      <th>hour_of_day</th>\n",
              "      <th>minute_of_hour</th>\n",
              "      <th>revenue</th>\n",
              "    </tr>\n",
              "  </thead>\n",
              "  <tbody>\n",
              "    <tr>\n",
              "      <th>count</th>\n",
              "      <td>48620.000000</td>\n",
              "      <td>48620.000000</td>\n",
              "      <td>48620.000000</td>\n",
              "      <td>48620.000000</td>\n",
              "      <td>48620.000000</td>\n",
              "      <td>48620.000000</td>\n",
              "      <td>48620.000000</td>\n",
              "      <td>48620.000000</td>\n",
              "      <td>48620.000000</td>\n",
              "      <td>48620.000000</td>\n",
              "    </tr>\n",
              "    <tr>\n",
              "      <th>mean</th>\n",
              "      <td>24309.500000</td>\n",
              "      <td>24310.500000</td>\n",
              "      <td>10701.479761</td>\n",
              "      <td>1.019622</td>\n",
              "      <td>16.494132</td>\n",
              "      <td>6.451131</td>\n",
              "      <td>2.486672</td>\n",
              "      <td>15.911806</td>\n",
              "      <td>29.654936</td>\n",
              "      <td>16.821474</td>\n",
              "    </tr>\n",
              "    <tr>\n",
              "      <th>std</th>\n",
              "      <td>14035.529381</td>\n",
              "      <td>14035.529381</td>\n",
              "      <td>6180.119770</td>\n",
              "      <td>0.143077</td>\n",
              "      <td>3.621789</td>\n",
              "      <td>3.435420</td>\n",
              "      <td>1.113634</td>\n",
              "      <td>3.149836</td>\n",
              "      <td>17.310959</td>\n",
              "      <td>4.437398</td>\n",
              "    </tr>\n",
              "    <tr>\n",
              "      <th>min</th>\n",
              "      <td>0.000000</td>\n",
              "      <td>1.000000</td>\n",
              "      <td>1.000000</td>\n",
              "      <td>1.000000</td>\n",
              "      <td>9.750000</td>\n",
              "      <td>1.000000</td>\n",
              "      <td>1.000000</td>\n",
              "      <td>9.000000</td>\n",
              "      <td>0.000000</td>\n",
              "      <td>9.750000</td>\n",
              "    </tr>\n",
              "    <tr>\n",
              "      <th>25%</th>\n",
              "      <td>12154.750000</td>\n",
              "      <td>12155.750000</td>\n",
              "      <td>5337.000000</td>\n",
              "      <td>1.000000</td>\n",
              "      <td>12.750000</td>\n",
              "      <td>3.000000</td>\n",
              "      <td>1.000000</td>\n",
              "      <td>13.000000</td>\n",
              "      <td>15.000000</td>\n",
              "      <td>12.750000</td>\n",
              "    </tr>\n",
              "    <tr>\n",
              "      <th>50%</th>\n",
              "      <td>24309.500000</td>\n",
              "      <td>24310.500000</td>\n",
              "      <td>10682.500000</td>\n",
              "      <td>1.000000</td>\n",
              "      <td>16.500000</td>\n",
              "      <td>6.000000</td>\n",
              "      <td>2.000000</td>\n",
              "      <td>16.000000</td>\n",
              "      <td>30.000000</td>\n",
              "      <td>16.500000</td>\n",
              "    </tr>\n",
              "    <tr>\n",
              "      <th>75%</th>\n",
              "      <td>36464.250000</td>\n",
              "      <td>36465.250000</td>\n",
              "      <td>16100.000000</td>\n",
              "      <td>1.000000</td>\n",
              "      <td>20.250000</td>\n",
              "      <td>9.000000</td>\n",
              "      <td>3.000000</td>\n",
              "      <td>18.000000</td>\n",
              "      <td>45.000000</td>\n",
              "      <td>20.500000</td>\n",
              "    </tr>\n",
              "    <tr>\n",
              "      <th>max</th>\n",
              "      <td>48619.000000</td>\n",
              "      <td>48620.000000</td>\n",
              "      <td>21350.000000</td>\n",
              "      <td>4.000000</td>\n",
              "      <td>35.950000</td>\n",
              "      <td>12.000000</td>\n",
              "      <td>4.000000</td>\n",
              "      <td>23.000000</td>\n",
              "      <td>59.000000</td>\n",
              "      <td>83.000000</td>\n",
              "    </tr>\n",
              "  </tbody>\n",
              "</table>\n",
              "</div>\n",
              "    <div class=\"colab-df-buttons\">\n",
              "\n",
              "  <div class=\"colab-df-container\">\n",
              "    <button class=\"colab-df-convert\" onclick=\"convertToInteractive('df-746967c4-4343-40e7-b2c6-0025e94b7b84')\"\n",
              "            title=\"Convert this dataframe to an interactive table.\"\n",
              "            style=\"display:none;\">\n",
              "\n",
              "  <svg xmlns=\"http://www.w3.org/2000/svg\" height=\"24px\" viewBox=\"0 -960 960 960\">\n",
              "    <path d=\"M120-120v-720h720v720H120Zm60-500h600v-160H180v160Zm220 220h160v-160H400v160Zm0 220h160v-160H400v160ZM180-400h160v-160H180v160Zm440 0h160v-160H620v160ZM180-180h160v-160H180v160Zm440 0h160v-160H620v160Z\"/>\n",
              "  </svg>\n",
              "    </button>\n",
              "\n",
              "  <style>\n",
              "    .colab-df-container {\n",
              "      display:flex;\n",
              "      gap: 12px;\n",
              "    }\n",
              "\n",
              "    .colab-df-convert {\n",
              "      background-color: #E8F0FE;\n",
              "      border: none;\n",
              "      border-radius: 50%;\n",
              "      cursor: pointer;\n",
              "      display: none;\n",
              "      fill: #1967D2;\n",
              "      height: 32px;\n",
              "      padding: 0 0 0 0;\n",
              "      width: 32px;\n",
              "    }\n",
              "\n",
              "    .colab-df-convert:hover {\n",
              "      background-color: #E2EBFA;\n",
              "      box-shadow: 0px 1px 2px rgba(60, 64, 67, 0.3), 0px 1px 3px 1px rgba(60, 64, 67, 0.15);\n",
              "      fill: #174EA6;\n",
              "    }\n",
              "\n",
              "    .colab-df-buttons div {\n",
              "      margin-bottom: 4px;\n",
              "    }\n",
              "\n",
              "    [theme=dark] .colab-df-convert {\n",
              "      background-color: #3B4455;\n",
              "      fill: #D2E3FC;\n",
              "    }\n",
              "\n",
              "    [theme=dark] .colab-df-convert:hover {\n",
              "      background-color: #434B5C;\n",
              "      box-shadow: 0px 1px 3px 1px rgba(0, 0, 0, 0.15);\n",
              "      filter: drop-shadow(0px 1px 2px rgba(0, 0, 0, 0.3));\n",
              "      fill: #FFFFFF;\n",
              "    }\n",
              "  </style>\n",
              "\n",
              "    <script>\n",
              "      const buttonEl =\n",
              "        document.querySelector('#df-746967c4-4343-40e7-b2c6-0025e94b7b84 button.colab-df-convert');\n",
              "      buttonEl.style.display =\n",
              "        google.colab.kernel.accessAllowed ? 'block' : 'none';\n",
              "\n",
              "      async function convertToInteractive(key) {\n",
              "        const element = document.querySelector('#df-746967c4-4343-40e7-b2c6-0025e94b7b84');\n",
              "        const dataTable =\n",
              "          await google.colab.kernel.invokeFunction('convertToInteractive',\n",
              "                                                    [key], {});\n",
              "        if (!dataTable) return;\n",
              "\n",
              "        const docLinkHtml = 'Like what you see? Visit the ' +\n",
              "          '<a target=\"_blank\" href=https://colab.research.google.com/notebooks/data_table.ipynb>data table notebook</a>'\n",
              "          + ' to learn more about interactive tables.';\n",
              "        element.innerHTML = '';\n",
              "        dataTable['output_type'] = 'display_data';\n",
              "        await google.colab.output.renderOutput(dataTable, element);\n",
              "        const docLink = document.createElement('div');\n",
              "        docLink.innerHTML = docLinkHtml;\n",
              "        element.appendChild(docLink);\n",
              "      }\n",
              "    </script>\n",
              "  </div>\n",
              "\n",
              "\n",
              "<div id=\"df-9c63790f-e934-47b0-94cc-d9ae4b72723a\">\n",
              "  <button class=\"colab-df-quickchart\" onclick=\"quickchart('df-9c63790f-e934-47b0-94cc-d9ae4b72723a')\"\n",
              "            title=\"Suggest charts.\"\n",
              "            style=\"display:none;\">\n",
              "\n",
              "<svg xmlns=\"http://www.w3.org/2000/svg\" height=\"24px\"viewBox=\"0 0 24 24\"\n",
              "     width=\"24px\">\n",
              "    <g>\n",
              "        <path d=\"M19 3H5c-1.1 0-2 .9-2 2v14c0 1.1.9 2 2 2h14c1.1 0 2-.9 2-2V5c0-1.1-.9-2-2-2zM9 17H7v-7h2v7zm4 0h-2V7h2v10zm4 0h-2v-4h2v4z\"/>\n",
              "    </g>\n",
              "</svg>\n",
              "  </button>\n",
              "\n",
              "<style>\n",
              "  .colab-df-quickchart {\n",
              "      --bg-color: #E8F0FE;\n",
              "      --fill-color: #1967D2;\n",
              "      --hover-bg-color: #E2EBFA;\n",
              "      --hover-fill-color: #174EA6;\n",
              "      --disabled-fill-color: #AAA;\n",
              "      --disabled-bg-color: #DDD;\n",
              "  }\n",
              "\n",
              "  [theme=dark] .colab-df-quickchart {\n",
              "      --bg-color: #3B4455;\n",
              "      --fill-color: #D2E3FC;\n",
              "      --hover-bg-color: #434B5C;\n",
              "      --hover-fill-color: #FFFFFF;\n",
              "      --disabled-bg-color: #3B4455;\n",
              "      --disabled-fill-color: #666;\n",
              "  }\n",
              "\n",
              "  .colab-df-quickchart {\n",
              "    background-color: var(--bg-color);\n",
              "    border: none;\n",
              "    border-radius: 50%;\n",
              "    cursor: pointer;\n",
              "    display: none;\n",
              "    fill: var(--fill-color);\n",
              "    height: 32px;\n",
              "    padding: 0;\n",
              "    width: 32px;\n",
              "  }\n",
              "\n",
              "  .colab-df-quickchart:hover {\n",
              "    background-color: var(--hover-bg-color);\n",
              "    box-shadow: 0 1px 2px rgba(60, 64, 67, 0.3), 0 1px 3px 1px rgba(60, 64, 67, 0.15);\n",
              "    fill: var(--button-hover-fill-color);\n",
              "  }\n",
              "\n",
              "  .colab-df-quickchart-complete:disabled,\n",
              "  .colab-df-quickchart-complete:disabled:hover {\n",
              "    background-color: var(--disabled-bg-color);\n",
              "    fill: var(--disabled-fill-color);\n",
              "    box-shadow: none;\n",
              "  }\n",
              "\n",
              "  .colab-df-spinner {\n",
              "    border: 2px solid var(--fill-color);\n",
              "    border-color: transparent;\n",
              "    border-bottom-color: var(--fill-color);\n",
              "    animation:\n",
              "      spin 1s steps(1) infinite;\n",
              "  }\n",
              "\n",
              "  @keyframes spin {\n",
              "    0% {\n",
              "      border-color: transparent;\n",
              "      border-bottom-color: var(--fill-color);\n",
              "      border-left-color: var(--fill-color);\n",
              "    }\n",
              "    20% {\n",
              "      border-color: transparent;\n",
              "      border-left-color: var(--fill-color);\n",
              "      border-top-color: var(--fill-color);\n",
              "    }\n",
              "    30% {\n",
              "      border-color: transparent;\n",
              "      border-left-color: var(--fill-color);\n",
              "      border-top-color: var(--fill-color);\n",
              "      border-right-color: var(--fill-color);\n",
              "    }\n",
              "    40% {\n",
              "      border-color: transparent;\n",
              "      border-right-color: var(--fill-color);\n",
              "      border-top-color: var(--fill-color);\n",
              "    }\n",
              "    60% {\n",
              "      border-color: transparent;\n",
              "      border-right-color: var(--fill-color);\n",
              "    }\n",
              "    80% {\n",
              "      border-color: transparent;\n",
              "      border-right-color: var(--fill-color);\n",
              "      border-bottom-color: var(--fill-color);\n",
              "    }\n",
              "    90% {\n",
              "      border-color: transparent;\n",
              "      border-bottom-color: var(--fill-color);\n",
              "    }\n",
              "  }\n",
              "</style>\n",
              "\n",
              "  <script>\n",
              "    async function quickchart(key) {\n",
              "      const quickchartButtonEl =\n",
              "        document.querySelector('#' + key + ' button');\n",
              "      quickchartButtonEl.disabled = true;  // To prevent multiple clicks.\n",
              "      quickchartButtonEl.classList.add('colab-df-spinner');\n",
              "      try {\n",
              "        const charts = await google.colab.kernel.invokeFunction(\n",
              "            'suggestCharts', [key], {});\n",
              "      } catch (error) {\n",
              "        console.error('Error during call to suggestCharts:', error);\n",
              "      }\n",
              "      quickchartButtonEl.classList.remove('colab-df-spinner');\n",
              "      quickchartButtonEl.classList.add('colab-df-quickchart-complete');\n",
              "    }\n",
              "    (() => {\n",
              "      let quickchartButtonEl =\n",
              "        document.querySelector('#df-9c63790f-e934-47b0-94cc-d9ae4b72723a button');\n",
              "      quickchartButtonEl.style.display =\n",
              "        google.colab.kernel.accessAllowed ? 'block' : 'none';\n",
              "    })();\n",
              "  </script>\n",
              "</div>\n",
              "    </div>\n",
              "  </div>\n"
            ]
          },
          "metadata": {},
          "execution_count": 65
        }
      ],
      "source": [
        "##statistics numerical values\n",
        "df.describe()"
      ]
    },
    {
      "cell_type": "markdown",
      "metadata": {
        "id": "VOOaBrSEusSE"
      },
      "source": [
        "**Observation**\n",
        "\n",
        "``From table we can see that average price of a pizza's  $16.49 and the minimum quantity ordered or units sold is 1``"
      ]
    },
    {
      "cell_type": "code",
      "execution_count": null,
      "metadata": {
        "colab": {
          "base_uri": "https://localhost:8080/",
          "height": 192
        },
        "id": "sM9Jw2DdusSF",
        "outputId": "cb44535e-e1ab-413c-9ff3-3b9c0462e1b4"
      },
      "outputs": [
        {
          "output_type": "execute_result",
          "data": {
            "text/plain": [
              "          pizza_id        date                 time pizza_type_id   size  \\\n",
              "count        48620       48620                48620         48620  48620   \n",
              "unique          91         358                16382            32      5   \n",
              "top     big_meat_s  2015-11-26  2023-10-06 12:32:00   classic_dlx      L   \n",
              "freq          1811         261                   26          2416  18526   \n",
              "\n",
              "                            name category  \\\n",
              "count                      48620    48620   \n",
              "unique                        32        4   \n",
              "top     The Classic Deluxe Pizza  Classic   \n",
              "freq                        2416    14579   \n",
              "\n",
              "                                              ingredients day_of_week  season  \n",
              "count                                               48620       48620   48620  \n",
              "unique                                                 32           7       4  \n",
              "top     Pepperoni, Mushrooms, Red Onions, Red Peppers,...      Friday  Summer  \n",
              "freq                                                 2416        8106   12721  "
            ],
            "text/html": [
              "\n",
              "  <div id=\"df-d87b0c26-28f1-4935-8b9c-4e060c90fe89\" class=\"colab-df-container\">\n",
              "    <div>\n",
              "<style scoped>\n",
              "    .dataframe tbody tr th:only-of-type {\n",
              "        vertical-align: middle;\n",
              "    }\n",
              "\n",
              "    .dataframe tbody tr th {\n",
              "        vertical-align: top;\n",
              "    }\n",
              "\n",
              "    .dataframe thead th {\n",
              "        text-align: right;\n",
              "    }\n",
              "</style>\n",
              "<table border=\"1\" class=\"dataframe\">\n",
              "  <thead>\n",
              "    <tr style=\"text-align: right;\">\n",
              "      <th></th>\n",
              "      <th>pizza_id</th>\n",
              "      <th>date</th>\n",
              "      <th>time</th>\n",
              "      <th>pizza_type_id</th>\n",
              "      <th>size</th>\n",
              "      <th>name</th>\n",
              "      <th>category</th>\n",
              "      <th>ingredients</th>\n",
              "      <th>day_of_week</th>\n",
              "      <th>season</th>\n",
              "    </tr>\n",
              "  </thead>\n",
              "  <tbody>\n",
              "    <tr>\n",
              "      <th>count</th>\n",
              "      <td>48620</td>\n",
              "      <td>48620</td>\n",
              "      <td>48620</td>\n",
              "      <td>48620</td>\n",
              "      <td>48620</td>\n",
              "      <td>48620</td>\n",
              "      <td>48620</td>\n",
              "      <td>48620</td>\n",
              "      <td>48620</td>\n",
              "      <td>48620</td>\n",
              "    </tr>\n",
              "    <tr>\n",
              "      <th>unique</th>\n",
              "      <td>91</td>\n",
              "      <td>358</td>\n",
              "      <td>16382</td>\n",
              "      <td>32</td>\n",
              "      <td>5</td>\n",
              "      <td>32</td>\n",
              "      <td>4</td>\n",
              "      <td>32</td>\n",
              "      <td>7</td>\n",
              "      <td>4</td>\n",
              "    </tr>\n",
              "    <tr>\n",
              "      <th>top</th>\n",
              "      <td>big_meat_s</td>\n",
              "      <td>2015-11-26</td>\n",
              "      <td>2023-10-06 12:32:00</td>\n",
              "      <td>classic_dlx</td>\n",
              "      <td>L</td>\n",
              "      <td>The Classic Deluxe Pizza</td>\n",
              "      <td>Classic</td>\n",
              "      <td>Pepperoni, Mushrooms, Red Onions, Red Peppers,...</td>\n",
              "      <td>Friday</td>\n",
              "      <td>Summer</td>\n",
              "    </tr>\n",
              "    <tr>\n",
              "      <th>freq</th>\n",
              "      <td>1811</td>\n",
              "      <td>261</td>\n",
              "      <td>26</td>\n",
              "      <td>2416</td>\n",
              "      <td>18526</td>\n",
              "      <td>2416</td>\n",
              "      <td>14579</td>\n",
              "      <td>2416</td>\n",
              "      <td>8106</td>\n",
              "      <td>12721</td>\n",
              "    </tr>\n",
              "  </tbody>\n",
              "</table>\n",
              "</div>\n",
              "    <div class=\"colab-df-buttons\">\n",
              "\n",
              "  <div class=\"colab-df-container\">\n",
              "    <button class=\"colab-df-convert\" onclick=\"convertToInteractive('df-d87b0c26-28f1-4935-8b9c-4e060c90fe89')\"\n",
              "            title=\"Convert this dataframe to an interactive table.\"\n",
              "            style=\"display:none;\">\n",
              "\n",
              "  <svg xmlns=\"http://www.w3.org/2000/svg\" height=\"24px\" viewBox=\"0 -960 960 960\">\n",
              "    <path d=\"M120-120v-720h720v720H120Zm60-500h600v-160H180v160Zm220 220h160v-160H400v160Zm0 220h160v-160H400v160ZM180-400h160v-160H180v160Zm440 0h160v-160H620v160ZM180-180h160v-160H180v160Zm440 0h160v-160H620v160Z\"/>\n",
              "  </svg>\n",
              "    </button>\n",
              "\n",
              "  <style>\n",
              "    .colab-df-container {\n",
              "      display:flex;\n",
              "      gap: 12px;\n",
              "    }\n",
              "\n",
              "    .colab-df-convert {\n",
              "      background-color: #E8F0FE;\n",
              "      border: none;\n",
              "      border-radius: 50%;\n",
              "      cursor: pointer;\n",
              "      display: none;\n",
              "      fill: #1967D2;\n",
              "      height: 32px;\n",
              "      padding: 0 0 0 0;\n",
              "      width: 32px;\n",
              "    }\n",
              "\n",
              "    .colab-df-convert:hover {\n",
              "      background-color: #E2EBFA;\n",
              "      box-shadow: 0px 1px 2px rgba(60, 64, 67, 0.3), 0px 1px 3px 1px rgba(60, 64, 67, 0.15);\n",
              "      fill: #174EA6;\n",
              "    }\n",
              "\n",
              "    .colab-df-buttons div {\n",
              "      margin-bottom: 4px;\n",
              "    }\n",
              "\n",
              "    [theme=dark] .colab-df-convert {\n",
              "      background-color: #3B4455;\n",
              "      fill: #D2E3FC;\n",
              "    }\n",
              "\n",
              "    [theme=dark] .colab-df-convert:hover {\n",
              "      background-color: #434B5C;\n",
              "      box-shadow: 0px 1px 3px 1px rgba(0, 0, 0, 0.15);\n",
              "      filter: drop-shadow(0px 1px 2px rgba(0, 0, 0, 0.3));\n",
              "      fill: #FFFFFF;\n",
              "    }\n",
              "  </style>\n",
              "\n",
              "    <script>\n",
              "      const buttonEl =\n",
              "        document.querySelector('#df-d87b0c26-28f1-4935-8b9c-4e060c90fe89 button.colab-df-convert');\n",
              "      buttonEl.style.display =\n",
              "        google.colab.kernel.accessAllowed ? 'block' : 'none';\n",
              "\n",
              "      async function convertToInteractive(key) {\n",
              "        const element = document.querySelector('#df-d87b0c26-28f1-4935-8b9c-4e060c90fe89');\n",
              "        const dataTable =\n",
              "          await google.colab.kernel.invokeFunction('convertToInteractive',\n",
              "                                                    [key], {});\n",
              "        if (!dataTable) return;\n",
              "\n",
              "        const docLinkHtml = 'Like what you see? Visit the ' +\n",
              "          '<a target=\"_blank\" href=https://colab.research.google.com/notebooks/data_table.ipynb>data table notebook</a>'\n",
              "          + ' to learn more about interactive tables.';\n",
              "        element.innerHTML = '';\n",
              "        dataTable['output_type'] = 'display_data';\n",
              "        await google.colab.output.renderOutput(dataTable, element);\n",
              "        const docLink = document.createElement('div');\n",
              "        docLink.innerHTML = docLinkHtml;\n",
              "        element.appendChild(docLink);\n",
              "      }\n",
              "    </script>\n",
              "  </div>\n",
              "\n",
              "\n",
              "<div id=\"df-2afb28c4-c5e7-42f3-bd90-dd1586e58da0\">\n",
              "  <button class=\"colab-df-quickchart\" onclick=\"quickchart('df-2afb28c4-c5e7-42f3-bd90-dd1586e58da0')\"\n",
              "            title=\"Suggest charts.\"\n",
              "            style=\"display:none;\">\n",
              "\n",
              "<svg xmlns=\"http://www.w3.org/2000/svg\" height=\"24px\"viewBox=\"0 0 24 24\"\n",
              "     width=\"24px\">\n",
              "    <g>\n",
              "        <path d=\"M19 3H5c-1.1 0-2 .9-2 2v14c0 1.1.9 2 2 2h14c1.1 0 2-.9 2-2V5c0-1.1-.9-2-2-2zM9 17H7v-7h2v7zm4 0h-2V7h2v10zm4 0h-2v-4h2v4z\"/>\n",
              "    </g>\n",
              "</svg>\n",
              "  </button>\n",
              "\n",
              "<style>\n",
              "  .colab-df-quickchart {\n",
              "      --bg-color: #E8F0FE;\n",
              "      --fill-color: #1967D2;\n",
              "      --hover-bg-color: #E2EBFA;\n",
              "      --hover-fill-color: #174EA6;\n",
              "      --disabled-fill-color: #AAA;\n",
              "      --disabled-bg-color: #DDD;\n",
              "  }\n",
              "\n",
              "  [theme=dark] .colab-df-quickchart {\n",
              "      --bg-color: #3B4455;\n",
              "      --fill-color: #D2E3FC;\n",
              "      --hover-bg-color: #434B5C;\n",
              "      --hover-fill-color: #FFFFFF;\n",
              "      --disabled-bg-color: #3B4455;\n",
              "      --disabled-fill-color: #666;\n",
              "  }\n",
              "\n",
              "  .colab-df-quickchart {\n",
              "    background-color: var(--bg-color);\n",
              "    border: none;\n",
              "    border-radius: 50%;\n",
              "    cursor: pointer;\n",
              "    display: none;\n",
              "    fill: var(--fill-color);\n",
              "    height: 32px;\n",
              "    padding: 0;\n",
              "    width: 32px;\n",
              "  }\n",
              "\n",
              "  .colab-df-quickchart:hover {\n",
              "    background-color: var(--hover-bg-color);\n",
              "    box-shadow: 0 1px 2px rgba(60, 64, 67, 0.3), 0 1px 3px 1px rgba(60, 64, 67, 0.15);\n",
              "    fill: var(--button-hover-fill-color);\n",
              "  }\n",
              "\n",
              "  .colab-df-quickchart-complete:disabled,\n",
              "  .colab-df-quickchart-complete:disabled:hover {\n",
              "    background-color: var(--disabled-bg-color);\n",
              "    fill: var(--disabled-fill-color);\n",
              "    box-shadow: none;\n",
              "  }\n",
              "\n",
              "  .colab-df-spinner {\n",
              "    border: 2px solid var(--fill-color);\n",
              "    border-color: transparent;\n",
              "    border-bottom-color: var(--fill-color);\n",
              "    animation:\n",
              "      spin 1s steps(1) infinite;\n",
              "  }\n",
              "\n",
              "  @keyframes spin {\n",
              "    0% {\n",
              "      border-color: transparent;\n",
              "      border-bottom-color: var(--fill-color);\n",
              "      border-left-color: var(--fill-color);\n",
              "    }\n",
              "    20% {\n",
              "      border-color: transparent;\n",
              "      border-left-color: var(--fill-color);\n",
              "      border-top-color: var(--fill-color);\n",
              "    }\n",
              "    30% {\n",
              "      border-color: transparent;\n",
              "      border-left-color: var(--fill-color);\n",
              "      border-top-color: var(--fill-color);\n",
              "      border-right-color: var(--fill-color);\n",
              "    }\n",
              "    40% {\n",
              "      border-color: transparent;\n",
              "      border-right-color: var(--fill-color);\n",
              "      border-top-color: var(--fill-color);\n",
              "    }\n",
              "    60% {\n",
              "      border-color: transparent;\n",
              "      border-right-color: var(--fill-color);\n",
              "    }\n",
              "    80% {\n",
              "      border-color: transparent;\n",
              "      border-right-color: var(--fill-color);\n",
              "      border-bottom-color: var(--fill-color);\n",
              "    }\n",
              "    90% {\n",
              "      border-color: transparent;\n",
              "      border-bottom-color: var(--fill-color);\n",
              "    }\n",
              "  }\n",
              "</style>\n",
              "\n",
              "  <script>\n",
              "    async function quickchart(key) {\n",
              "      const quickchartButtonEl =\n",
              "        document.querySelector('#' + key + ' button');\n",
              "      quickchartButtonEl.disabled = true;  // To prevent multiple clicks.\n",
              "      quickchartButtonEl.classList.add('colab-df-spinner');\n",
              "      try {\n",
              "        const charts = await google.colab.kernel.invokeFunction(\n",
              "            'suggestCharts', [key], {});\n",
              "      } catch (error) {\n",
              "        console.error('Error during call to suggestCharts:', error);\n",
              "      }\n",
              "      quickchartButtonEl.classList.remove('colab-df-spinner');\n",
              "      quickchartButtonEl.classList.add('colab-df-quickchart-complete');\n",
              "    }\n",
              "    (() => {\n",
              "      let quickchartButtonEl =\n",
              "        document.querySelector('#df-2afb28c4-c5e7-42f3-bd90-dd1586e58da0 button');\n",
              "      quickchartButtonEl.style.display =\n",
              "        google.colab.kernel.accessAllowed ? 'block' : 'none';\n",
              "    })();\n",
              "  </script>\n",
              "</div>\n",
              "    </div>\n",
              "  </div>\n"
            ]
          },
          "metadata": {},
          "execution_count": 66
        }
      ],
      "source": [
        "##statistics category values\n",
        "df.describe(include=\"O\")"
      ]
    },
    {
      "cell_type": "markdown",
      "metadata": {
        "id": "HlGHrGlBusSF"
      },
      "source": [
        "**Observation**\n",
        "\n",
        "``From the above table we can see most of our customers the like classic delux pizza and mostly they order it on fridays``"
      ]
    },
    {
      "cell_type": "code",
      "execution_count": null,
      "metadata": {
        "colab": {
          "base_uri": "https://localhost:8080/"
        },
        "id": "EWD6EP2AusSF",
        "outputId": "40692481-66aa-430c-fbaa-b86959773606"
      },
      "outputs": [
        {
          "output_type": "execute_result",
          "data": {
            "text/plain": [
              "Unnamed: 0          0\n",
              "order_details_id    0\n",
              "order_id            0\n",
              "pizza_id            0\n",
              "quantity            0\n",
              "date                0\n",
              "time                0\n",
              "pizza_type_id       0\n",
              "size                0\n",
              "price               0\n",
              "name                0\n",
              "category            0\n",
              "ingredients         0\n",
              "day_of_week         0\n",
              "month               0\n",
              "quarter             0\n",
              "season              0\n",
              "hour_of_day         0\n",
              "minute_of_hour      0\n",
              "revenue             0\n",
              "dtype: int64"
            ]
          },
          "metadata": {},
          "execution_count": 67
        }
      ],
      "source": [
        "#Missing values\n",
        "df.isnull().sum()"
      ]
    },
    {
      "cell_type": "markdown",
      "metadata": {
        "id": "vzZ_B8tdusSG"
      },
      "source": [
        "``We don't have any missing values in our dataset ``"
      ]
    },
    {
      "cell_type": "markdown",
      "metadata": {
        "id": "2Zq2X5ShMA4b"
      },
      "source": [
        "## Exploratory Data Analysis"
      ]
    },
    {
      "cell_type": "markdown",
      "metadata": {
        "id": "6-mWezdvusSG"
      },
      "source": [
        "**What is the distribution of pizza prices in the dataset?**"
      ]
    },
    {
      "cell_type": "code",
      "execution_count": null,
      "metadata": {
        "colab": {
          "base_uri": "https://localhost:8080/",
          "height": 480
        },
        "id": "60n6FWEfusSG",
        "outputId": "c1f15611-9be9-4f2a-d9d5-6526b27f0593"
      },
      "outputs": [
        {
          "output_type": "display_data",
          "data": {
            "text/plain": [
              "<Figure size 640x480 with 1 Axes>"
            ],
            "image/png": "[encoded data removed]"
          },
          "metadata": {}
        }
      ],
      "source": [
        "# Create a histogram with 20 bins\n",
        "plt.hist(df['price'], bins=20, color='c', edgecolor='black')\n",
        "\n",
        "# Add labels and title\n",
        "plt.xlabel('Price')\n",
        "plt.ylabel('Frequency')\n",
        "plt.title('Distribution of Pizza Prices')\n",
        "\n",
        "# Display the plot\n",
        "plt.show()\n"
      ]
    },
    {
      "cell_type": "markdown",
      "metadata": {
        "id": "yMpiiLeNusSH"
      },
      "source": [
        "``Looking at the above graph we can see the distribution of our pizza's and they range between $10-$20\n",
        "and we can see most people  they buy the pizza's that cost $20 and rest they range  between $10-$19 and there's only few who buy pizzas that cost more than %20 dollars\n",
        "``"
      ]
    },
    {
      "cell_type": "markdown",
      "source": [
        "**Group the data by 'day_of_week' and calculate the mean or sum of 'quantity' for each day. Create a bar plot using Matplotlib to visualize the variation.\n",
        "Is there a seasonal trend in pizza orders?**"
      ],
      "metadata": {
        "id": "Dpfw79UMoF7w"
      }
    },
    {
      "cell_type": "code",
      "source": [
        "total_quantity=df['quantity'].sum()"
      ],
      "metadata": {
        "id": "ELoRp7yLoZIW"
      },
      "execution_count": null,
      "outputs": []
    },
    {
      "cell_type": "code",
      "source": [
        "print('total quantinty of day:',total_quantity)"
      ],
      "metadata": {
        "colab": {
          "base_uri": "https://localhost:8080/"
        },
        "id": "535-hQrMoZAn",
        "outputId": "7b35e4d9-945e-4ba6-dc96-e7bcecd3eaad"
      },
      "execution_count": null,
      "outputs": [
        {
          "output_type": "stream",
          "name": "stdout",
          "text": [
            "total quantinty of day: 49574\n"
          ]
        }
      ]
    },
    {
      "cell_type": "code",
      "source": [
        "day_sums=df.groupby('day_of_week')['quantity'].sum().sort_values()"
      ],
      "metadata": {
        "id": "LIUeH1agiOs9"
      },
      "execution_count": null,
      "outputs": []
    },
    {
      "cell_type": "code",
      "execution_count": null,
      "metadata": {
        "colab": {
          "base_uri": "https://localhost:8080/",
          "height": 663
        },
        "id": "vNa66uQuusSI",
        "outputId": "468c4521-ea47-4498-b572-f82691aa0b28"
      },
      "outputs": [
        {
          "output_type": "execute_result",
          "data": {
            "text/plain": [
              "Text(0.5, 1.0, ' quantity of pizza orders vary with the day of the week')"
            ]
          },
          "metadata": {},
          "execution_count": 72
        },
        {
          "output_type": "display_data",
          "data": {
            "text/plain": [
              "<Figure size 800x600 with 1 Axes>"
            ],
            "image/png": "[encoded data removed]"
          },
          "metadata": {}
        }
      ],
      "source": [
        "plt.figure(figsize=(8,6))\n",
        "day_sums.plot(kind='bar',color='peru')\n",
        "plt.xlabel('day of week')\n",
        "plt.ylabel('quantity')\n",
        "plt.title(' quantity of pizza orders vary with the day of the week')"
      ]
    },
    {
      "cell_type": "markdown",
      "metadata": {
        "id": "6H1aH7VhusSI"
      },
      "source": [
        "``The graph shows that the quantity of pizza orders varies with the day of the week. The average number of pizza orders on a Thursday is lower than the average number of pizza orders on a Friday. The average number of pizza orders on a Saturday is higher than the average number of pizza orders on a Sunday. The average number of pizza orders on a Monday is lower than the average number of pizza orders on a Tuesday.``"
      ]
    },
    {
      "cell_type": "markdown",
      "source": [
        "**Use Pandas to count the occurrences of the quantity of unique 'pizza_type_id' and create a bar plot to visualize the popularity of different pizzas per minutes. How does the order quantity change per day?.**"
      ],
      "metadata": {
        "id": "ICrI8B7hx5rL"
      }
    },
    {
      "cell_type": "code",
      "source": [
        "minutes_quantity=df.groupby('minute_of_hour')['quantity'].sum()"
      ],
      "metadata": {
        "id": "GWQMMz7o549D"
      },
      "execution_count": null,
      "outputs": []
    },
    {
      "cell_type": "code",
      "source": [
        "plt.figure(figsize=(14,8))\n",
        "minutes_quantity.plot(kind='bar', color='maroon')\n",
        "plt.xlabel('Minutes')\n",
        "plt.ylabel('quantity')\n",
        "plt.title('total quantity per minute_of_hour')"
      ],
      "metadata": {
        "colab": {
          "base_uri": "https://localhost:8080/",
          "height": 748
        },
        "id": "Biumev8Y54m9",
        "outputId": "05aa463a-3b5e-4a7c-beec-9c4259f945e6"
      },
      "execution_count": null,
      "outputs": [
        {
          "output_type": "execute_result",
          "data": {
            "text/plain": [
              "Text(0.5, 1.0, 'total quantity per minute_of_hour')"
            ]
          },
          "metadata": {},
          "execution_count": 85
        },
        {
          "output_type": "display_data",
          "data": {
            "text/plain": [
              "<Figure size 1400x800 with 1 Axes>"
            ],
            "image/png": "[encoded data removed]"
          },
          "metadata": {}
        }
      ]
    },
    {
      "cell_type": "markdown",
      "metadata": {
        "id": "G_qGWN9lusSJ"
      },
      "source": [
        "**Group the data by 'season' and calculate the total revenue for each season. Create a line plot using Matplotlib to observe any seasonal trends.\n",
        "Which pizza types are the most popular?**"
      ]
    },
    {
      "cell_type": "code",
      "execution_count": null,
      "metadata": {
        "colab": {
          "base_uri": "https://localhost:8080/"
        },
        "id": "0MWNsztNTkkl",
        "outputId": "2a51abe2-0e39-4dc5-e0f7-e792a2990169"
      },
      "outputs": [
        {
          "output_type": "stream",
          "name": "stdout",
          "text": [
            "total revenue for season: 817860.0499999999\n"
          ]
        }
      ],
      "source": [
        "total_revenue=df['revenue'].sum()\n",
        "print('total revenue for season:', total_revenue)"
      ]
    },
    {
      "cell_type": "code",
      "execution_count": null,
      "metadata": {
        "id": "sebMQz9_Tkg9",
        "colab": {
          "base_uri": "https://localhost:8080/"
        },
        "outputId": "f0aba9a3-b45c-4d46-a114-df3d47d0f614"
      },
      "outputs": [
        {
          "output_type": "stream",
          "name": "stdout",
          "text": [
            "days_of_week_quantity: season\n",
            "Fall      194171.95\n",
            "Winter    197332.90\n",
            "Spring    212832.40\n",
            "Summer    213522.80\n",
            "Name: revenue, dtype: float64\n"
          ]
        }
      ],
      "source": [
        "days_of_week_quantity=df.groupby('season')['revenue'].sum().sort_values()\n",
        "print('days_of_week_quantity:', days_of_week_quantity)"
      ]
    },
    {
      "cell_type": "code",
      "execution_count": null,
      "metadata": {
        "colab": {
          "base_uri": "https://localhost:8080/",
          "height": 794
        },
        "id": "E0UuKJLbTkdF",
        "outputId": "0ee311f8-54a7-4400-cc0e-a05b935d17e6"
      },
      "outputs": [
        {
          "output_type": "execute_result",
          "data": {
            "text/plain": [
              "Text(0.5, 1.0, 'Total revenue vs Seasons')"
            ]
          },
          "metadata": {},
          "execution_count": 76
        },
        {
          "output_type": "display_data",
          "data": {
            "text/plain": [
              "<Figure size 1400x800 with 1 Axes>"
            ],
            "image/png": "[encoded data removed]"
          },
          "metadata": {}
        }
      ],
      "source": [
        "plt.figure(figsize=(14,8))\n",
        "days_of_week_quantity.plot(kind='bar', color='yellow')\n",
        "plt.xlabel('Season')\n",
        "plt.ylabel('revenue')\n",
        "plt.title('Total revenue vs Seasons')"
      ]
    },
    {
      "cell_type": "markdown",
      "metadata": {
        "id": "aT4Ic64gusSK"
      },
      "source": [
        "``Observation``"
      ]
    },
    {
      "cell_type": "markdown",
      "metadata": {
        "id": "uhuWmWwRusSL"
      },
      "source": [
        "```Observations from the graph:\n",
        "\n",
        "- The company's total revenue in the summer is about 10% higher than its total revenue in the winter.\n",
        "- The company's total revenue in the spring is about 5% higher than its total revenue in the fall.\n",
        "- The company's total revenue in the fall and winter is relatively similar.```"
      ]
    },
    {
      "cell_type": "markdown",
      "metadata": {
        "id": "b3Aux990usSL"
      },
      "source": [
        "**Use Pandas to count the occurrences of each unique 'pizza_type_id' and create a bar plot to visualize the popularity of different pizza types.\n",
        "How does the order quantity change throughout the day?**"
      ]
    },
    {
      "cell_type": "code",
      "source": [
        "pizza_type_quantity=df.groupby('pizza_type_id')['quantity'].sum().sort_values()"
      ],
      "metadata": {
        "id": "FbPCNELmcYHx"
      },
      "execution_count": null,
      "outputs": []
    },
    {
      "cell_type": "code",
      "execution_count": null,
      "metadata": {
        "colab": {
          "base_uri": "https://localhost:8080/",
          "height": 776
        },
        "id": "O7SjT8Tbc7hl",
        "outputId": "c575c5eb-5590-411b-e749-637c2908abe8"
      },
      "outputs": [
        {
          "output_type": "display_data",
          "data": {
            "text/plain": [
              "<Figure size 1400x800 with 1 Axes>"
            ],
            "image/png": "[encoded data removed]"
          },
          "metadata": {}
        }
      ],
      "source": [
        "plt.figure(figsize=(14,8))\n",
        "pizza_type_quantity.plot(kind='bar', color='purple')\n",
        "plt.xticks(rotation=45)\n",
        "plt.show()"
      ]
    },
    {
      "cell_type": "markdown",
      "metadata": {
        "id": "2iBV_lIMusSR"
      },
      "source": [
        "``The bar graph shows that the most popular type of pizza is classic deluxe, with over 2,000 pizzas sold. The next most popular types of pizza are barbecue chicken,Hawaiian,thai chicken and cali chicken with over 1,500 pizzas sold for each type.``\n",
        "\n",
        "``The least popular types of pizza are calabreese, meditarraneo, sicilian and brie carre with fewer than 500 pizzas sold for each type.``"
      ]
    },
    {
      "cell_type": "markdown",
      "metadata": {
        "id": "I1_ZjhFDusSR"
      },
      "source": [
        "**Create a line plot showing how the quantity of orders changes over the 'hour_of_day' (e.g., time of day).**"
      ]
    },
    {
      "cell_type": "code",
      "execution_count": null,
      "metadata": {
        "id": "pItyTnIkOAh4"
      },
      "outputs": [],
      "source": [
        "date=pd.DatetimeIndex(df['time'])"
      ]
    },
    {
      "cell_type": "code",
      "execution_count": null,
      "metadata": {
        "id": "SByE9_wRNWkx"
      },
      "outputs": [],
      "source": [
        "df['TimeOfDay'] = pd.cut(df['hour_of_day'],\n",
        "                         bins=[0,4, 12, 18, 22],\n",
        "                         labels=['Night','Morning','Afternoon','Evening'],\n",
        "                         include_lowest=True)"
      ]
    },
    {
      "cell_type": "code",
      "execution_count": null,
      "metadata": {
        "colab": {
          "base_uri": "https://localhost:8080/",
          "height": 760
        },
        "id": "tuFl36jpLJaf",
        "outputId": "28befd63-0314-4995-de06-0910261a9702"
      },
      "outputs": [
        {
          "output_type": "execute_result",
          "data": {
            "text/plain": [
              "(array([-0.5,  0. ,  0.5,  1. ,  1.5,  2. ,  2.5,  3. ,  3.5]),\n",
              " [Text(-0.5, 0, ''),\n",
              "  Text(0.0, 0, 'Night'),\n",
              "  Text(0.5, 0, ''),\n",
              "  Text(1.0, 0, 'Morning'),\n",
              "  Text(1.5, 0, ''),\n",
              "  Text(2.0, 0, 'Evening'),\n",
              "  Text(2.5, 0, ''),\n",
              "  Text(3.0, 0, 'Afternoon'),\n",
              "  Text(3.5, 0, '')])"
            ]
          },
          "metadata": {},
          "execution_count": 81
        },
        {
          "output_type": "display_data",
          "data": {
            "text/plain": [
              "<Figure size 1000x600 with 1 Axes>"
            ],
            "image/png": "[encoded data removed]"
          },
          "metadata": {}
        }
      ],
      "source": [
        "plt.figure(figsize=(10,6))\n",
        "df.TimeOfDay.value_counts().sort_values().plot(kind='line', marker='o',linestyle = 'dotted')\n",
        "plt.xticks(rotation=90)"
      ]
    },
    {
      "cell_type": "markdown",
      "metadata": {
        "id": "V0kcbzUpusSS"
      },
      "source": [
        "\n",
        "## Conclusion\n",
        "\n",
        "\n"
      ]
    },
    {
      "cell_type": "markdown",
      "source": [
        "Through the exploratory data analysis, I discovered that the majority of customers prefer not to spend more than $20. This means that the store needs to make sure that the ingredients for pizza, classic deluxe, barbeque chicken, Hawaiian, and other popular items are always in bulk stock to avoid customer complaints, especially on Thursday, Friday, and Saturday because these are the days when they sold the most frequently.Because it is convenient to grab as a snack when heading to picknicks, parties, and beaches, customers enjoy it from spring to summer.\n",
        "\n",
        "Based on the amount of pizza sold each day, we can observe that most consumers buy pizza on Fridays because some people are paid every week or every fourth night, while others are too lazy to cook because the week was too long and they need to relax and treat themselves. Additionally, they go out to have fun on Saturday.However, we notice that fewer pizzas are sold on Sundays and Monday because most people on Sunday often attend church and they cook several color food with their families. And, also on monday they finish up leftovers.\n",
        "\n",
        "##Recomentadion\n",
        "\n",
        "To improve sales performance, the store should at the very least offer specials on pizzas that cost more than $$20 on busy days like Fridays. For instance, if you buy one of those pizzas, you can get a second one for $10.Maintain the volume of sales that include a buy one, get one free cold drink offer on Friday and Saturday. Then, on Sunday, they must offer a buy one, get one free deal on the least popular types of pizza, such as brie-carre and calabrese.\n",
        "\n",
        "\n"
      ],
      "metadata": {
        "id": "8QBxP3o51-ji"
      }
    }
  ],
  "metadata": {
    "colab": {
      "provenance": []
    },
    "kernelspec": {
      "display_name": "Python 3",
      "name": "python3"
    },
    "language_info": {
      "codemirror_mode": {
        "name": "ipython",
        "version": 3
      },
      "file_extension": ".py",
      "mimetype": "text/x-python",
      "name": "python",
      "nbconvert_exporter": "python",
      "pygments_lexer": "ipython3",
      "version": "3.11.3"
    }
  },
  "nbformat": 4,
  "nbformat_minor": 0
}